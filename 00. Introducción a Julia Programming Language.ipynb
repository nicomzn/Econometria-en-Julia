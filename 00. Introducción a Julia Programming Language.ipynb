{
 "cells": [
  {
   "cell_type": "markdown",
   "metadata": {},
   "source": [
    "\n",
    "\n",
    "# Introducción a Julia Programming Languaje\n",
    "\n",
    "## Qué es Julia?\n",
    "\n",
    "Julia es nuevo lenguaje de programación creado en el MIT, destacado por sobre los demás lenguajes por ser **sencillo** y muy **velóz**. El objetivo de Julia es llevar la computacion de alto rendimiento a un público masivo, para que investigadores, científicos y empresas realizen análisis complejos de forma rapida y económica. Gran parte del proyecto de Julia implica crear un lenguaje gratuito de código abierto que sea lo más fácil de usar posible, de modo que los usuarios que no sean necesariamente programadores profesionales puedan crear y compartir fácilmente softwares que otros podrán usar de forma gratuita y mejorar. \n",
    "\n",
    "Julia es un lenguaje que está creciendo popularidad en todo el mundo. Actualmente las principales disciplinas que los utilizan son la biología, matemática, ciencia de datos, física cuántica, economía cuantitativa, astronomía y ecología. Con un conjunto de desarrolladores de varias partes de la comunidad científica del mundo, este lenguaje se convertirá en uno de los más utilizados en los próximos años.\n",
    "\n",
    "Para saber más sobre el Julia y para descargarlo [ingresa aquí](https://julialang.org/) \n"
   ]
  },
  {
   "cell_type": "markdown",
   "metadata": {},
   "source": [
    "## Temario\n",
    "\n",
    "### 1. Introducción\n",
    "* Operaciones básicas y variables\n",
    "* Estructura de Datos\n",
    "\n",
    "### 2. Control Flow\n",
    "* Iteraciones (loops)\n",
    "* Condicionales\n",
    "* Funciones\n",
    "\n",
    "### 3. Librerias\n",
    "* Librerias\n",
    "* Gráficos\n",
    "\n",
    "### 4. Tópicos de Álgebra y estadísticas\n",
    "* Álgebra lineal básica\n",
    "* Factorizaciones\n",
    "\n",
    "\n",
    "\n",
    "\n",
    "![Julia Logo](logo.svg)\n"
   ]
  },
  {
   "cell_type": "markdown",
   "metadata": {},
   "source": [
    "## 1. Introducción\n",
    "\n",
    "### 1.1 Operaciones básicas y variables \n",
    "Para visualizar resultados o objetos en general se utiliza la función `prinln()`. Por ejemplo,\n"
   ]
  },
  {
   "cell_type": "code",
   "execution_count": null,
   "metadata": {
    "tags": []
   },
   "outputs": [],
   "source": [
    "println(\"Hola Mundo\")"
   ]
  },
  {
   "cell_type": "code",
   "execution_count": null,
   "metadata": {
    "tags": []
   },
   "outputs": [],
   "source": [
    "println(2 + 3)"
   ]
  },
  {
   "cell_type": "markdown",
   "metadata": {},
   "source": [
    "Para crear variables es necesario un nombre, un valor y un signo igual. Julia identificará automaticamente el tipo de la variable creada"
   ]
  },
  {
   "cell_type": "code",
   "execution_count": null,
   "metadata": {},
   "outputs": [],
   "source": [
    "# Mi edad\n",
    "\n",
    "mi_edad = 27"
   ]
  },
  {
   "cell_type": "code",
   "execution_count": null,
   "metadata": {},
   "outputs": [],
   "source": [
    "mi_edad"
   ]
  },
  {
   "cell_type": "code",
   "execution_count": null,
   "metadata": {},
   "outputs": [],
   "source": [
    "typeof(mi_edad)"
   ]
  },
  {
   "cell_type": "markdown",
   "metadata": {},
   "source": [
    "La variable `mi_edad` es de tipo `Int64`. Usualmente se utilizan los datos de tipo `Int64`, `Int32` (enteros), `Float64`, `Float32` (con decimales), `string` (cadenas de texto). Además existen los datos de tipo lógico o booleano (`Bool`), que devuelven `True` o `False`."
   ]
  },
  {
   "cell_type": "code",
   "execution_count": null,
   "metadata": {},
   "outputs": [],
   "source": [
    "n_pi = 3.14159\n",
    "typeof(n_pi)"
   ]
  },
  {
   "cell_type": "code",
   "execution_count": null,
   "metadata": {
    "scrolled": true
   },
   "outputs": [],
   "source": [
    "nombre = \"Nicolas\"\n",
    "typeof(nombre)"
   ]
  },
  {
   "cell_type": "markdown",
   "metadata": {},
   "source": [
    "#### Sintax para operaciones matemáticas"
   ]
  },
  {
   "cell_type": "code",
   "execution_count": null,
   "metadata": {},
   "outputs": [],
   "source": [
    "suma = 3 + 7"
   ]
  },
  {
   "cell_type": "code",
   "execution_count": null,
   "metadata": {},
   "outputs": [],
   "source": [
    "dif = 10 - 3"
   ]
  },
  {
   "cell_type": "code",
   "execution_count": null,
   "metadata": {},
   "outputs": [],
   "source": [
    "producto = 20 * 5"
   ]
  },
  {
   "cell_type": "code",
   "execution_count": null,
   "metadata": {},
   "outputs": [],
   "source": [
    "cociente = 100 / 10"
   ]
  },
  {
   "cell_type": "code",
   "execution_count": null,
   "metadata": {},
   "outputs": [],
   "source": [
    "potencia = 10 ^ 2"
   ]
  },
  {
   "cell_type": "markdown",
   "metadata": {},
   "source": [
    "### 1.2 Strings\n",
    "#### 1.2.1 Como obtener una variable string\n",
    "\n",
    "Simplemente escribe una cadena de caracteres entre `\"\"`"
   ]
  },
  {
   "cell_type": "code",
   "execution_count": null,
   "metadata": {},
   "outputs": [],
   "source": [
    "s1 = \"Soy una variable string.\""
   ]
  },
  {
   "cell_type": "code",
   "execution_count": null,
   "metadata": {},
   "outputs": [],
   "source": [
    "s2 = \"\"\"Soy una variable string\"\"\""
   ]
  },
  {
   "cell_type": "code",
   "execution_count": null,
   "metadata": {},
   "outputs": [],
   "source": [
    "s3 = 'Soy una variable string con error de sintaxis'"
   ]
  },
  {
   "cell_type": "markdown",
   "metadata": {},
   "source": [
    "`''` define un caracter, no una cadena de texto"
   ]
  },
  {
   "cell_type": "markdown",
   "metadata": {},
   "source": [
    "#### 1.2.2 Interpolation"
   ]
  },
  {
   "cell_type": "code",
   "execution_count": null,
   "metadata": {},
   "outputs": [],
   "source": [
    "nombre = \"keynes\"\n",
    "libro = \"Teoria General\"\n",
    "year = 30"
   ]
  },
  {
   "cell_type": "code",
   "execution_count": null,
   "metadata": {},
   "outputs": [],
   "source": [
    "println(\"Hola!, mi nombre es $nombre.\")\n",
    "println(\"y mi libro, $libro, contribuyó a superar la crisis del $year\")\n",
    "\n",
    "### $ se utiliza para insertar variables en una string"
   ]
  },
  {
   "cell_type": "code",
   "execution_count": null,
   "metadata": {},
   "outputs": [],
   "source": [
    "## String concatenation\n",
    "nombre = \"Adam \"\n",
    "apellido = \"Smith \"\n",
    "string(nombre, apellido)"
   ]
  },
  {
   "cell_type": "code",
   "execution_count": null,
   "metadata": {},
   "outputs": [],
   "source": [
    "obra = \"escribio el libro La Riqueza de las Naciones\""
   ]
  },
  {
   "cell_type": "code",
   "execution_count": null,
   "metadata": {},
   "outputs": [],
   "source": [
    "string(nombre,apellido,obra)"
   ]
  },
  {
   "cell_type": "code",
   "execution_count": null,
   "metadata": {},
   "outputs": [],
   "source": [
    "# se puede usar * tambien para concaternar strings\n",
    "nombre*apellido*obra"
   ]
  },
  {
   "cell_type": "markdown",
   "metadata": {},
   "source": [
    "### 1.2 Estructura de Datos\n",
    "\n",
    "Una vez que se comienza a trabajar con muchos datos a la vez, es conveniente almacenarlos  en estructuras de datos como *matrices* o *diccionarios* (en lugar de depender solo de variables).\n",
    "\n",
    "Tipos de estructuras de datos:\n",
    "1. Tuplas\n",
    "2. Diccionarios\n",
    "3. Matrices\n",
    "\n",
    "A modo de resumen, las tuplas y las matrices son secuencias ordenadas de elementos (por lo que podemos indexarlas), mientras que los diccionarios carecen de un orden. Los diccionarios y las matrices son mutables, por lo que es posible modificar su contenido. En cambio las tuplas son inmutables.\n",
    "\n",
    "\n",
    "#### 1.2.1 Tuples\n",
    "\n",
    "Es posible crear una tupla a partir de una colección de elementos entre paréntesis `( )`.\n",
    "\n",
    "Syntax: <br>\n",
    "```julia\n",
    "(item1, item2, ...)```\n"
   ]
  },
  {
   "cell_type": "code",
   "execution_count": null,
   "metadata": {},
   "outputs": [],
   "source": [
    "tupla = (10, 20, 30)"
   ]
  },
  {
   "cell_type": "markdown",
   "metadata": {},
   "source": [
    "Es posible llemar un elemento de la tupla de acuerdo a su posición"
   ]
  },
  {
   "cell_type": "code",
   "execution_count": null,
   "metadata": {},
   "outputs": [],
   "source": [
    "tupla[1]"
   ]
  },
  {
   "cell_type": "markdown",
   "metadata": {},
   "source": [
    "Sin embargo, no es posible modificar los datos que pertenecen a la tupla"
   ]
  },
  {
   "cell_type": "code",
   "execution_count": null,
   "metadata": {},
   "outputs": [],
   "source": [
    "tupla[1] = 40"
   ]
  },
  {
   "cell_type": "markdown",
   "metadata": {},
   "source": [
    "#### 1.2.2 Diccionarios\n",
    "\n",
    "Ante la presencia de datos relacionados, es posible que se prefiera almacenarlos en un diccionario. Los diccionarios se crean a partir de utilizar la funcion `Dict()`\n",
    "\n",
    "Syntax:\n",
    "```julia\n",
    "Dict(key1 => value1, key2 => value2, ...)```\n",
    "\n",
    "Un ejemplo sencillo es una agenda de telefonos"
   ]
  },
  {
   "cell_type": "code",
   "execution_count": null,
   "metadata": {},
   "outputs": [],
   "source": [
    "agenda = Dict(\"juan\" => \"221-394857\", \"Carlos\" => \"221-857629\")"
   ]
  },
  {
   "cell_type": "markdown",
   "metadata": {},
   "source": [
    "En este caso, el nombre y el numero son la \"clave\" y el \"valor\" del par. Podemos extraer el número (valor) de Juan a partir de su clave asociada"
   ]
  },
  {
   "cell_type": "code",
   "execution_count": null,
   "metadata": {},
   "outputs": [],
   "source": [
    "agenda[\"juan\"]"
   ]
  },
  {
   "cell_type": "markdown",
   "metadata": {},
   "source": [
    "Es posible incorporar datos a la estructura: agendar otro contacto"
   ]
  },
  {
   "cell_type": "code",
   "execution_count": null,
   "metadata": {},
   "outputs": [],
   "source": [
    "agenda[\"martin\"] = \"221-332256\""
   ]
  },
  {
   "cell_type": "code",
   "execution_count": null,
   "metadata": {},
   "outputs": [],
   "source": [
    "agenda"
   ]
  },
  {
   "cell_type": "markdown",
   "metadata": {},
   "source": [
    "A diferencia de las tuplas, los diccionarios no están ordenados, por lo que no es posible buscar entradas a través de su posición."
   ]
  },
  {
   "cell_type": "code",
   "execution_count": null,
   "metadata": {},
   "outputs": [],
   "source": [
    "agenda[1]"
   ]
  },
  {
   "cell_type": "markdown",
   "metadata": {},
   "source": [
    "#### 1.2.3 Arrays\n",
    "\n",
    "A diferencias de las tuplas, los arrays (matrices) son mutables, y a diferencia de los diccionarios, los arrays poseen colecciones de datos ordenados. Para crear un array hay que escribir datos entre corchetes `[ ]`.\n",
    "\n",
    "Syntax: <br>\n",
    "```julia\n",
    "[item1, item2, ...]```\n"
   ]
  },
  {
   "cell_type": "code",
   "execution_count": null,
   "metadata": {},
   "outputs": [],
   "source": [
    "data = [1,1,1,2,2,2,3,3,3]"
   ]
  },
  {
   "cell_type": "code",
   "execution_count": null,
   "metadata": {},
   "outputs": [],
   "source": [
    "data[4]"
   ]
  },
  {
   "cell_type": "markdown",
   "metadata": {},
   "source": [
    "Es posible editar el array utilizando las funciones `push!` y `pop!`. `push!` agrega elementos al array al final, mientras que `pop!` elimina el ultimo elemento."
   ]
  },
  {
   "cell_type": "code",
   "execution_count": null,
   "metadata": {},
   "outputs": [],
   "source": [
    "fibonacci = [1, 1, 2, 3, 5, 8, 13]"
   ]
  },
  {
   "cell_type": "code",
   "execution_count": null,
   "metadata": {},
   "outputs": [],
   "source": [
    "push!(fibonacci, 21)"
   ]
  },
  {
   "cell_type": "code",
   "execution_count": null,
   "metadata": {},
   "outputs": [],
   "source": [
    "pop!(fibonacci)"
   ]
  },
  {
   "cell_type": "code",
   "execution_count": null,
   "metadata": {},
   "outputs": [],
   "source": [
    "fibonacci"
   ]
  },
  {
   "cell_type": "code",
   "execution_count": null,
   "metadata": {},
   "outputs": [],
   "source": [
    "matriz = [[1,2,3],[4,5,6],[7,8,9]]"
   ]
  },
  {
   "cell_type": "markdown",
   "metadata": {},
   "source": [
    "Es posible utilizar la funcion `rand()` para crear una matriz de numeros aleatorios de dimensión $N x M$"
   ]
  },
  {
   "cell_type": "code",
   "execution_count": null,
   "metadata": {},
   "outputs": [],
   "source": [
    "rand(4,3)"
   ]
  },
  {
   "cell_type": "code",
   "execution_count": null,
   "metadata": {},
   "outputs": [],
   "source": [
    "rand(4,3,3)"
   ]
  }
 ],
 "metadata": {
  "@webio": {
   "lastCommId": null,
   "lastKernelId": null
  },
  "kernelspec": {
   "display_name": "Julia 1.4.1",
   "language": "julia",
   "name": "julia-1.4"
  },
  "language_info": {
   "file_extension": ".jl",
   "mimetype": "application/julia",
   "name": "julia",
   "version": "3.8.1-final"
  }
 },
 "nbformat": 4,
 "nbformat_minor": 4
}