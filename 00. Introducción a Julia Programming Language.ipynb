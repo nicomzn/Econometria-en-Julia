{
 "cells": [
  {
   "cell_type": "markdown",
   "metadata": {},
   "source": [
    "\n",
    "\n",
    "# Introducción a Julia Programming Languaje\n",
    "\n",
    "## Qué es Julia?\n",
    "\n",
    "Julia es nuevo lenguaje de programación creado en el MIT, destacado por sobre los demás lenguajes por ser **sencillo** y muy **velóz**. El objetivo de Julia es llevar la computacion de alto rendimiento a un público masivo, para que investigadores, científicos y empresas realizen análisis complejos de forma rapida y económica. Gran parte del proyecto de Julia implica crear un lenguaje gratuito de código abierto que sea lo más fácil de usar posible, de modo que los usuarios que no sean necesariamente programadores profesionales puedan crear y compartir fácilmente softwares que otros podrán usar de forma gratuita y mejorar. \n",
    "\n",
    "Julia es un lenguaje que está creciendo popularidad en todo el mundo. Actualmente las principales disciplinas que los utilizan son la biología, matemática, ciencia de datos, física cuántica, economía cuantitativa, astronomía y ecología. Con un conjunto de desarrolladores de varias partes de la comunidad científica del mundo, este lenguaje se convertirá en uno de los más utilizados en los próximos años.\n",
    "\n",
    "Para saber más sobre el Julia y para descargarlo [ingresa aquí](https://julialang.org/) \n"
   ]
  },
  {
   "cell_type": "markdown",
   "metadata": {},
   "source": [
    "## Temario\n",
    "\n",
    "### 1. Introducción\n",
    "* Operaciones básicas y variables\n",
    "* Estructura de Datos\n",
    "\n",
    "### 2. Control Flow\n",
    "* Iteraciones (loops)\n",
    "* Condicionales\n",
    "* Funciones\n",
    "\n",
    "### 3. Librerias\n",
    "* Librerias\n",
    "* Gráficos\n",
    "\n",
    "### 4. Tópicos de Álgebra y estadísticas\n",
    "* Álgebra lineal básica\n",
    "* Factorizaciones\n",
    "\n",
    "\n",
    "\n",
    "\n",
    "![Julia Logo](logo.svg)\n"
   ]
  },
  {
   "cell_type": "markdown",
   "metadata": {},
   "source": [
    "## 1. Introducción\n",
    "\n",
    "### 1.1 Operaciones básicas y variables \n",
    "\n",
    "Para visualizar resultados o objetos en general se utiliza la función `prinln()`. Por ejemplo,"
   ]
  },
  {
   "cell_type": "code",
   "execution_count": null,
   "metadata": {
    "tags": []
   },
   "outputs": [],
   "source": [
    "println(\"Hola Mundo\")"
   ]
  },
  {
   "cell_type": "code",
   "execution_count": null,
   "metadata": {
    "tags": []
   },
   "outputs": [],
   "source": [
    "println(2 + 3)"
   ]
  },
  {
   "cell_type": "markdown",
   "metadata": {},
   "source": [
    "Para crear variables es necesario un nombre, un valor y un signo igual. Julia identificará automaticamente el tipo de la variable creada"
   ]
  },
  {
   "cell_type": "code",
   "execution_count": null,
   "metadata": {},
   "outputs": [],
   "source": [
    "# Mi edad\n",
    "\n",
    "mi_edad = 27"
   ]
  },
  {
   "cell_type": "code",
   "execution_count": null,
   "metadata": {},
   "outputs": [],
   "source": [
    "mi_edad"
   ]
  },
  {
   "cell_type": "code",
   "execution_count": null,
   "metadata": {},
   "outputs": [],
   "source": [
    "typeof(mi_edad)"
   ]
  },
  {
   "cell_type": "markdown",
   "metadata": {},
   "source": [
    "La variable `mi_edad` es de tipo `Int64`. Usualmente se utilizan los datos de tipo `Int64`, `Int32` (enteros), `Float64`, `Float32` (con decimales), `string` (cadenas de texto). Además existen los datos de tipo lógico o booleano (`Bool`), que devuelven `True` o `False`."
   ]
  },
  {
   "cell_type": "code",
   "execution_count": null,
   "metadata": {},
   "outputs": [],
   "source": [
    "n_pi = 3.14159\n",
    "typeof(n_pi)"
   ]
  },
  {
   "cell_type": "code",
   "execution_count": null,
   "metadata": {
    "scrolled": true
   },
   "outputs": [],
   "source": [
    "nombre = \"Nicolas\"\n",
    "typeof(nombre)"
   ]
  },
  {
   "cell_type": "markdown",
   "metadata": {},
   "source": [
    "#### Sintax para operaciones matemáticas"
   ]
  },
  {
   "cell_type": "code",
   "execution_count": null,
   "metadata": {},
   "outputs": [],
   "source": [
    "suma = 3 + 7"
   ]
  },
  {
   "cell_type": "code",
   "execution_count": null,
   "metadata": {},
   "outputs": [],
   "source": [
    "dif = 10 - 3"
   ]
  },
  {
   "cell_type": "code",
   "execution_count": null,
   "metadata": {},
   "outputs": [],
   "source": [
    "producto = 20 * 5"
   ]
  },
  {
   "cell_type": "code",
   "execution_count": null,
   "metadata": {},
   "outputs": [],
   "source": [
    "cociente = 100 / 10"
   ]
  },
  {
   "cell_type": "code",
   "execution_count": null,
   "metadata": {},
   "outputs": [],
   "source": [
    "potencia = 10 ^ 2"
   ]
  },
  {
   "cell_type": "markdown",
   "metadata": {},
   "source": [
    "### 1.2 Strings\n",
    "#### 1.2.1 Como obtener una variable string\n",
    "\n",
    "Simplemente escribe una cadena de caracteres entre `\"\"`"
   ]
  },
  {
   "cell_type": "code",
   "execution_count": null,
   "metadata": {},
   "outputs": [],
   "source": [
    "s1 = \"Soy una variable string.\""
   ]
  },
  {
   "cell_type": "code",
   "execution_count": null,
   "metadata": {},
   "outputs": [],
   "source": [
    "s2 = \"\"\"Soy una variable string\"\"\""
   ]
  },
  {
   "cell_type": "code",
   "execution_count": null,
   "metadata": {},
   "outputs": [],
   "source": [
    "s3 = 'Soy una variable string con error de sintaxis'"
   ]
  },
  {
   "cell_type": "markdown",
   "metadata": {},
   "source": [
    "`''` define un caracter, no una cadena de texto"
   ]
  },
  {
   "cell_type": "markdown",
   "metadata": {},
   "source": [
    "#### 1.2.2 Interpolation"
   ]
  },
  {
   "cell_type": "code",
   "execution_count": null,
   "metadata": {},
   "outputs": [],
   "source": [
    "nombre = \"keynes\"\n",
    "libro = \"Teoria General\"\n",
    "year = 30"
   ]
  },
  {
   "cell_type": "code",
   "execution_count": null,
   "metadata": {},
   "outputs": [],
   "source": [
    "println(\"Hola!, mi nombre es $nombre.\")\n",
    "println(\"y mi libro, $libro, contribuyó a superar la crisis del $year\")\n",
    "\n",
    "### $ se utiliza para insertar variables en una string"
   ]
  },
  {
   "cell_type": "code",
   "execution_count": null,
   "metadata": {},
   "outputs": [],
   "source": [
    "## String concatenation\n",
    "nombre = \"Adam \"\n",
    "apellido = \"Smith \"\n",
    "string(nombre, apellido)"
   ]
  },
  {
   "cell_type": "code",
   "execution_count": null,
   "metadata": {},
   "outputs": [],
   "source": [
    "obra = \"escribio el libro La Riqueza de las Naciones\""
   ]
  },
  {
   "cell_type": "code",
   "execution_count": null,
   "metadata": {},
   "outputs": [],
   "source": [
    "string(nombre,apellido,obra)"
   ]
  },
  {
   "cell_type": "code",
   "execution_count": null,
   "metadata": {},
   "outputs": [],
   "source": [
    "# se puede usar * tambien para concaternar strings\n",
    "nombre*apellido*obra"
   ]
  },
  {
   "cell_type": "markdown",
   "metadata": {},
   "source": [
    "### 1.2 Estructura de Datos\n",
    "\n",
    "Una vez que se comienza a trabajar con muchos datos a la vez, es conveniente almacenarlos  en estructuras de datos como *matrices* o *diccionarios* (en lugar de depender solo de variables).\n",
    "\n",
    "Tipos de estructuras de datos:\n",
    "1. Tuplas\n",
    "2. Diccionarios\n",
    "3. Matrices\n",
    "\n",
    "A modo de resumen, las tuplas y las matrices son secuencias ordenadas de elementos (por lo que podemos indexarlas), mientras que los diccionarios carecen de un orden. Los diccionarios y las matrices son mutables, por lo que es posible modificar su contenido. En cambio las tuplas son inmutables.\n",
    "\n",
    "\n",
    "#### 1.2.1 Tuples\n",
    "\n",
    "Es posible crear una tupla a partir de una colección de elementos entre paréntesis `( )`.\n",
    "\n",
    "Syntax: <br>\n",
    "```julia\n",
    "(item1, item2, ...)```\n"
   ]
  },
  {
   "cell_type": "code",
   "execution_count": null,
   "metadata": {},
   "outputs": [],
   "source": [
    "tupla = (10, 20, 30)"
   ]
  },
  {
   "cell_type": "markdown",
   "metadata": {},
   "source": [
    "Es posible llemar un elemento de la tupla de acuerdo a su posición"
   ]
  },
  {
   "cell_type": "code",
   "execution_count": null,
   "metadata": {},
   "outputs": [],
   "source": [
    "tupla[1]"
   ]
  },
  {
   "cell_type": "markdown",
   "metadata": {},
   "source": [
    "Sin embargo, no es posible modificar los datos que pertenecen a la tupla"
   ]
  },
  {
   "cell_type": "code",
   "execution_count": null,
   "metadata": {},
   "outputs": [],
   "source": [
    "tupla[1] = 40"
   ]
  },
  {
   "cell_type": "markdown",
   "metadata": {},
   "source": [
    "#### 1.2.2 Diccionarios\n",
    "\n",
    "Ante la presencia de datos relacionados, es posible que se prefiera almacenarlos en un diccionario. Los diccionarios se crean a partir de utilizar la funcion `Dict()`\n",
    "\n",
    "Syntax:\n",
    "```julia\n",
    "Dict(key1 => value1, key2 => value2, ...)```\n",
    "\n",
    "Un ejemplo sencillo es una agenda de telefonos"
   ]
  },
  {
   "cell_type": "code",
   "execution_count": null,
   "metadata": {},
   "outputs": [],
   "source": [
    "agenda = Dict(\"juan\" => \"221-394857\", \"Carlos\" => \"221-857629\")"
   ]
  },
  {
   "cell_type": "markdown",
   "metadata": {},
   "source": [
    "En este caso, el nombre y el numero son la \"clave\" y el \"valor\" del par. Podemos extraer el número (valor) de Juan a partir de su clave asociada"
   ]
  },
  {
   "cell_type": "code",
   "execution_count": null,
   "metadata": {},
   "outputs": [],
   "source": [
    "agenda[\"juan\"]"
   ]
  },
  {
   "cell_type": "markdown",
   "metadata": {},
   "source": [
    "Es posible incorporar datos a la estructura: agendar otro contacto"
   ]
  },
  {
   "cell_type": "code",
   "execution_count": null,
   "metadata": {},
   "outputs": [],
   "source": [
    "agenda[\"martin\"] = \"221-332256\""
   ]
  },
  {
   "cell_type": "code",
   "execution_count": null,
   "metadata": {},
   "outputs": [],
   "source": [
    "agenda"
   ]
  },
  {
   "cell_type": "markdown",
   "metadata": {},
   "source": [
    "A diferencia de las tuplas, los diccionarios no están ordenados, por lo que no es posible buscar entradas a través de su posición."
   ]
  },
  {
   "cell_type": "code",
   "execution_count": null,
   "metadata": {},
   "outputs": [],
   "source": [
    "agenda[1]"
   ]
  },
  {
   "cell_type": "markdown",
   "metadata": {},
   "source": [
    "#### 1.2.3 Arrays\n",
    "\n",
    "A diferencias de las tuplas, los arrays (matrices) son mutables, y a diferencia de los diccionarios, los arrays poseen colecciones de datos ordenados. Para crear un array hay que escribir datos entre corchetes `[ ]`.\n",
    "\n",
    "Syntax: <br>\n",
    "```julia\n",
    "[item1, item2, ...]```\n"
   ]
  },
  {
   "cell_type": "code",
   "execution_count": null,
   "metadata": {},
   "outputs": [],
   "source": [
    "data = [1,1,1,2,2,2,3,3,3]"
   ]
  },
  {
   "cell_type": "code",
   "execution_count": null,
   "metadata": {},
   "outputs": [],
   "source": [
    "data[4]"
   ]
  },
  {
   "cell_type": "markdown",
   "metadata": {},
   "source": [
    "Es posible editar el array utilizando las funciones `push!` y `pop!`. `push!` agrega elementos al array al final, mientras que `pop!` elimina el ultimo elemento."
   ]
  },
  {
   "cell_type": "code",
   "execution_count": null,
   "metadata": {},
   "outputs": [],
   "source": [
    "fibonacci = [1, 1, 2, 3, 5, 8, 13]"
   ]
  },
  {
   "cell_type": "code",
   "execution_count": null,
   "metadata": {},
   "outputs": [],
   "source": [
    "push!(fibonacci, 21)"
   ]
  },
  {
   "cell_type": "code",
   "execution_count": null,
   "metadata": {},
   "outputs": [],
   "source": [
    "pop!(fibonacci)"
   ]
  },
  {
   "cell_type": "code",
   "execution_count": null,
   "metadata": {},
   "outputs": [],
   "source": [
    "fibonacci"
   ]
  },
  {
   "cell_type": "code",
   "execution_count": null,
   "metadata": {},
   "outputs": [],
   "source": [
    "matriz = [[1,2,3],[4,5,6],[7,8,9]]"
   ]
  },
  {
   "cell_type": "markdown",
   "metadata": {},
   "source": [
    "Es posible utilizar la funcion `rand()` para crear una matriz de numeros aleatorios de dimensión $N x M$"
   ]
  },
  {
   "cell_type": "code",
   "execution_count": null,
   "metadata": {},
   "outputs": [],
   "source": [
    "rand(4,3)"
   ]
  },
  {
   "cell_type": "code",
   "execution_count": null,
   "metadata": {},
   "outputs": [],
   "source": [
    "rand(4,3,3)"
   ]
  },
  {
   "cell_type": "markdown",
   "metadata": {},
   "source": [
    "## 2. Control Flow\n",
    "\n",
    "### 2.1 Iteraciones (loops)\n",
    "\n",
    "Topics:\n",
    "1. `while` loops\n",
    "2. `for` loops\n",
    "<br>\n",
    "\n",
    "### While loops\n",
    "\n",
    "La sintáxis para  `while` es\n",
    "\n",
    "```julia\n",
    "while *condición*\n",
    "    *cuerpo del loop*\n",
    "end\n",
    "```\n",
    "\n",
    "Por ejemplo, podemos utilizar `while` para contar o iterar sobre un array.\n"
   ]
  },
  {
   "cell_type": "code",
   "execution_count": 1,
   "metadata": {},
   "outputs": [
    {
     "name": "stdout",
     "output_type": "stream",
     "text": [
      "1\n",
      "2\n",
      "3\n",
      "4\n",
      "5\n",
      "6\n",
      "7\n",
      "8\n",
      "9\n",
      "10\n"
     ]
    },
    {
     "data": {
      "text/plain": [
       "10"
      ]
     },
     "execution_count": 1,
     "metadata": {},
     "output_type": "execute_result"
    }
   ],
   "source": [
    "n = 0\n",
    "while n < 10\n",
    "    n += 1\n",
    "    println(n)\n",
    "end\n",
    "n"
   ]
  },
  {
   "cell_type": "code",
   "execution_count": 2,
   "metadata": {},
   "outputs": [
    {
     "name": "stdout",
     "output_type": "stream",
     "text": [
      "Estoy cursando micro\n",
      "Estoy cursando macro\n",
      "Estoy cursando econometria\n",
      "Estoy cursando estadistica\n",
      "Estoy cursando algebra\n"
     ]
    }
   ],
   "source": [
    "materias = [\"micro\", \"macro\", \"econometria\", \"estadistica\", \"algebra\"]\n",
    "\n",
    "i = 1\n",
    "while i <= length(materias)\n",
    "    materia = materias[i]\n",
    "    println(\"Estoy cursando $materia\")\n",
    "    i += 1\n",
    "end"
   ]
  },
  {
   "cell_type": "markdown",
   "metadata": {},
   "source": [
    "### For loops\n",
    "\n",
    "la sitáxis para `for` es\n",
    "\n",
    "```julia\n",
    "for *var* in *iteracion loop*\n",
    "    *cuerpo loop*\n",
    "end\n",
    "```\n",
    "\n",
    "Se puede observar que\n",
    "\n",
    "Es posible usar este loop para generar los mismos resultados de arriba:"
   ]
  },
  {
   "cell_type": "code",
   "execution_count": 3,
   "metadata": {},
   "outputs": [
    {
     "name": "stdout",
     "output_type": "stream",
     "text": [
      "1\n",
      "2\n",
      "3\n",
      "4\n",
      "5\n",
      "6\n",
      "7\n",
      "8\n",
      "9\n",
      "10\n"
     ]
    }
   ],
   "source": [
    "for n in 1:10\n",
    "    println(n)\n",
    "end"
   ]
  },
  {
   "cell_type": "code",
   "execution_count": 4,
   "metadata": {},
   "outputs": [
    {
     "name": "stdout",
     "output_type": "stream",
     "text": [
      "Estoy cursando micro\n",
      "Estoy cursando macro\n",
      "Estoy cursando econometria\n",
      "Estoy cursando estadistica\n",
      "Estoy cursando algebra\n"
     ]
    }
   ],
   "source": [
    "materias = [\"micro\", \"macro\", \"econometria\", \"estadistica\", \"algebra\"]\n",
    "\n",
    "for materia in materias\n",
    "    println(\"Estoy cursando $materia\")\n",
    "end"
   ]
  },
  {
   "cell_type": "markdown",
   "metadata": {},
   "source": [
    "Ahora, utilicemos `for` para crear tablas adicionales, donde el valor de vada entrada sea la suma del índice de la fila y la columna <br>\n",
    "\n",
    "Primero, creamos un array con ceros."
   ]
  },
  {
   "cell_type": "code",
   "execution_count": 5,
   "metadata": {},
   "outputs": [
    {
     "data": {
      "text/plain": [
       "5×5 Array{Int64,2}:\n",
       " 0  0  0  0  0\n",
       " 0  0  0  0  0\n",
       " 0  0  0  0  0\n",
       " 0  0  0  0  0\n",
       " 0  0  0  0  0"
      ]
     },
     "execution_count": 5,
     "metadata": {},
     "output_type": "execute_result"
    }
   ],
   "source": [
    "m, n = 5, 5\n",
    "A = fill(0, (m, n))"
   ]
  },
  {
   "cell_type": "code",
   "execution_count": 8,
   "metadata": {},
   "outputs": [
    {
     "data": {
      "text/plain": [
       "5×5 Array{Int64,2}:\n",
       " 2  3  4  5   6\n",
       " 3  4  5  6   7\n",
       " 4  5  6  7   8\n",
       " 5  6  7  8   9\n",
       " 6  7  8  9  10"
      ]
     },
     "execution_count": 8,
     "metadata": {},
     "output_type": "execute_result"
    }
   ],
   "source": [
    "for i in 1:m\n",
    "    for j in 1:n\n",
    "        A[i, j] = i + j\n",
    "    end\n",
    "end\n",
    "A"
   ]
  },
  {
   "cell_type": "markdown",
   "metadata": {},
   "source": [
    "Ahora un sintáxis reducida del loop `for`"
   ]
  },
  {
   "cell_type": "code",
   "execution_count": 10,
   "metadata": {},
   "outputs": [
    {
     "data": {
      "text/plain": [
       "5×5 Array{Int64,2}:\n",
       " 0  0  0  0  0\n",
       " 0  0  0  0  0\n",
       " 0  0  0  0  0\n",
       " 0  0  0  0  0\n",
       " 0  0  0  0  0"
      ]
     },
     "execution_count": 10,
     "metadata": {},
     "output_type": "execute_result"
    }
   ],
   "source": [
    "B = fill(0, (m, n))"
   ]
  },
  {
   "cell_type": "code",
   "execution_count": 11,
   "metadata": {},
   "outputs": [
    {
     "data": {
      "text/plain": [
       "5×5 Array{Int64,2}:\n",
       " 2  3  4  5   6\n",
       " 3  4  5  6   7\n",
       " 4  5  6  7   8\n",
       " 5  6  7  8   9\n",
       " 6  7  8  9  10"
      ]
     },
     "execution_count": 11,
     "metadata": {},
     "output_type": "execute_result"
    }
   ],
   "source": [
    "for i in 1:m, j in 1:n\n",
    "    B[i, j] = i + j\n",
    "end\n",
    "B"
   ]
  },
  {
   "cell_type": "markdown",
   "metadata": {},
   "source": [
    "Otra posibilidad es"
   ]
  },
  {
   "cell_type": "code",
   "execution_count": 12,
   "metadata": {},
   "outputs": [
    {
     "data": {
      "text/plain": [
       "5×5 Array{Int64,2}:\n",
       " 2  3  4  5   6\n",
       " 3  4  5  6   7\n",
       " 4  5  6  7   8\n",
       " 5  6  7  8   9\n",
       " 6  7  8  9  10"
      ]
     },
     "execution_count": 12,
     "metadata": {},
     "output_type": "execute_result"
    }
   ],
   "source": [
    "C = [i + j for i in 1:m, j in 1:n]"
   ]
  },
  {
   "cell_type": "markdown",
   "metadata": {},
   "source": [
    "### 2.2. Conditionals\n",
    "\n",
    "####  `if` keyword\n",
    "En julia, la sintáxis es:\n",
    "\n",
    "```julia\n",
    "if *condicion 1*\n",
    "    *opcion 1*\n",
    "elseif *condicion 2*\n",
    "    *opcion 2*\n",
    "else\n",
    "    *opcion 3*\n",
    "end\n",
    "```\n",
    "\n",
    "Nos permite condicionar las expresiones evaluadas.\n",
    "\n",
    "<br><br>\n",
    "\n",
    "Por ejemplo, podríamos querer implementar la prueba FizzBuzz: dado un número, N, imprima \"Fizz\" si N es divisible entre 3, \"Buzz\" si N es divisible entre 5 y \"FizzBuzz\" si N es divisible entre 3 y 5. De lo contrario, solo imprima el número mismo. Ingrese su elección para `N` aquí:"
   ]
  },
  {
   "cell_type": "code",
   "execution_count": null,
   "metadata": {},
   "outputs": [],
   "source": [
    "N =\n",
    "\n",
    "if (N % 3 == 0) && (N % 5 == 0) # `&&` means \"AND\"; % computes the remainder after division\n",
    "    println(\"FizzBuzz\")\n",
    "elseif N % 3 == 0\n",
    "    println(\"Fizz\")\n",
    "elseif N % 5 == 0\n",
    "    println(\"Buzz\")\n",
    "else\n",
    "    println(N)\n",
    "end"
   ]
  },
  {
   "cell_type": "markdown",
   "metadata": {},
   "source": [
    "#### Operadores ternarios\n",
    "\n",
    "Es posible utilizar operadores ternarios en la sintáxis\n",
    "\n",
    "```julia\n",
    "a ? b : c\n",
    "```\n",
    "\n",
    "which equates to\n",
    "\n",
    "```julia\n",
    "if a\n",
    "    b\n",
    "else\n",
    "    c\n",
    "end\n",
    "```"
   ]
  },
  {
   "cell_type": "markdown",
   "metadata": {},
   "source": [
    "Supongamos por ejemplo que queremos obtener el número más alto entre dos posibilidades: dado los valores de `x` e `y`:"
   ]
  },
  {
   "cell_type": "code",
   "execution_count": null,
   "metadata": {},
   "outputs": [],
   "source": [
    "x =\n",
    "y ="
   ]
  },
  {
   "cell_type": "markdown",
   "metadata": {},
   "source": [
    "Utilizando las keywords `if` y `else` podemos escribir:"
   ]
  },
  {
   "cell_type": "code",
   "execution_count": null,
   "metadata": {},
   "outputs": [],
   "source": [
    "if x > y\n",
    "    x\n",
    "else\n",
    "    y\n",
    "end"
   ]
  },
  {
   "cell_type": "markdown",
   "metadata": {},
   "source": [
    "Utilizando operadores ternarios, el condicional es:"
   ]
  },
  {
   "cell_type": "code",
   "execution_count": null,
   "metadata": {},
   "outputs": [],
   "source": [
    "(x > y) ? x : y"
   ]
  },
  {
   "cell_type": "code",
   "execution_count": null,
   "metadata": {},
   "outputs": [],
   "source": []
  }
 ],
 "metadata": {
  "@webio": {
   "lastCommId": null,
   "lastKernelId": null
  },
  "kernelspec": {
   "display_name": "Julia 1.4.1",
   "language": "julia",
   "name": "julia-1.4"
  },
  "language_info": {
   "file_extension": ".jl",
   "mimetype": "application/julia",
   "name": "julia",
   "version": "1.4.1"
  }
 },
 "nbformat": 4,
 "nbformat_minor": 4
}
