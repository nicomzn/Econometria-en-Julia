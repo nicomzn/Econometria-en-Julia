{
 "cells": [
  {
   "cell_type": "markdown",
   "metadata": {},
   "source": [
    "<img src=\"Resources\\logo.svg\" alt=\"Julia\" width=\"300\" height=\"300\" /> \n",
    "\n",
    "<br>\n",
    "<br>\n",
    "\n",
    "<img src=\"Resources\\LOGO-CON.png\" alt=\"LETIF\"\twidth=\"400\" height=\"400\" />\n",
    "\n",
    "\n",
    "<br>\n",
    "<br>\n",
    "<br>\n",
    "\n",
    "# Introducción a Julia Programming Languaje\n",
    "\n",
    "## Qué es Julia?\n",
    "\n",
    "Julia es nuevo lenguaje de programación creado en el MIT, destacado por sobre los demás lenguajes por ser **sencillo** y muy **velóz**. El objetivo de Julia es llevar la computacion de alto rendimiento a un público masivo, para que investigadores, científicos y empresas realizen análisis complejos de forma rapida y económica. Gran parte del proyecto de Julia implica crear un lenguaje gratuito de código abierto que sea lo más fácil de usar posible, de modo que los usuarios que no sean necesariamente programadores profesionales puedan crear y compartir fácilmente softwares que otros podrán usar de forma gratuita y mejorar. \n",
    "\n",
    "Julia es un lenguaje que está creciendo popularidad en todo el mundo. Actualmente las principales disciplinas que los utilizan son la biología, matemática, ciencia de datos, física cuántica, economía cuantitativa, astronomía y ecología. Con un conjunto de desarrolladores de varias partes de la comunidad científica del mundo, este lenguaje se convertirá en uno de los más utilizados en los próximos años.\n",
    "\n",
    "Para saber más sobre el Julia y para descargarlo [ingresa aquí](https://julialang.org/) \n"
   ]
  },
  {
   "cell_type": "markdown",
   "metadata": {},
   "source": [
    "## Temario\n",
    "\n",
    "### 1. Introducción\n",
    "* Operaciones básicas y variables\n",
    "* Estructura de Datos\n",
    "\n",
    "### 2. Control Flow\n",
    "* Iteraciones (loops)\n",
    "* Condicionales\n",
    "* Funciones\n",
    "\n",
    "### 3. Librerias\n",
    "* Librerias\n",
    "* Gráficos\n",
    "\n",
    "### 4. Tópicos de Álgebra\n",
    "* Álgebra lineal básica\n",
    "\n",
    "<br>\n",
    "<br>\n",
    "<br>\n",
    "<br>\n",
    "<br>\n",
    "\n"
   ]
  },
  {
   "cell_type": "markdown",
   "metadata": {},
   "source": [
    "## 1. Introducción\n",
    "\n",
    "### 1.1 Operaciones básicas y variables \n",
    "\n",
    "Para visualizar resultados o objetos en general se utiliza la función `prinln()`. Por ejemplo,"
   ]
  },
  {
   "cell_type": "code",
   "execution_count": null,
   "metadata": {
    "tags": []
   },
   "outputs": [],
   "source": [
    "println(\"Hola Mundo\")"
   ]
  },
  {
   "cell_type": "code",
   "execution_count": null,
   "metadata": {
    "tags": []
   },
   "outputs": [],
   "source": [
    "println(2 + 3)"
   ]
  },
  {
   "cell_type": "markdown",
   "metadata": {},
   "source": [
    "Para crear variables es necesario un nombre, un valor y un signo igual. Julia identificará automaticamente el tipo de la variable creada"
   ]
  },
  {
   "cell_type": "code",
   "execution_count": null,
   "metadata": {},
   "outputs": [],
   "source": [
    "# Mi edad\n",
    "\n",
    "mi_edad = 27"
   ]
  },
  {
   "cell_type": "code",
   "execution_count": null,
   "metadata": {},
   "outputs": [],
   "source": [
    "mi_edad"
   ]
  },
  {
   "cell_type": "code",
   "execution_count": null,
   "metadata": {},
   "outputs": [],
   "source": [
    "typeof(mi_edad)"
   ]
  },
  {
   "cell_type": "markdown",
   "metadata": {},
   "source": [
    "La variable `mi_edad` es de tipo `Int64`. Usualmente se utilizan los datos de tipo `Int64`, `Int32` (enteros), `Float64`, `Float32` (con decimales), `string` (cadenas de texto). Además existen los datos de tipo lógico o booleano (`Bool`), que devuelven `True` o `False`."
   ]
  },
  {
   "cell_type": "code",
   "execution_count": null,
   "metadata": {},
   "outputs": [],
   "source": [
    "n_pi = 3.14159\n",
    "typeof(n_pi)"
   ]
  },
  {
   "cell_type": "code",
   "execution_count": null,
   "metadata": {
    "scrolled": true
   },
   "outputs": [],
   "source": [
    "nombre = \"Nicolas\"\n",
    "typeof(nombre)"
   ]
  },
  {
   "cell_type": "markdown",
   "metadata": {},
   "source": [
    "#### Sintax para operaciones matemáticas"
   ]
  },
  {
   "cell_type": "code",
   "execution_count": null,
   "metadata": {},
   "outputs": [],
   "source": [
    "suma = 3 + 7"
   ]
  },
  {
   "cell_type": "code",
   "execution_count": null,
   "metadata": {},
   "outputs": [],
   "source": [
    "dif = 10 - 3"
   ]
  },
  {
   "cell_type": "code",
   "execution_count": null,
   "metadata": {},
   "outputs": [],
   "source": [
    "producto = 20 * 5"
   ]
  },
  {
   "cell_type": "code",
   "execution_count": null,
   "metadata": {},
   "outputs": [],
   "source": [
    "cociente = 100 / 10"
   ]
  },
  {
   "cell_type": "code",
   "execution_count": null,
   "metadata": {},
   "outputs": [],
   "source": [
    "potencia = 10 ^ 2"
   ]
  },
  {
   "cell_type": "markdown",
   "metadata": {},
   "source": [
    "### 1.2 Strings\n",
    "#### 1.2.1 Como obtener una variable string\n",
    "\n",
    "Simplemente escribe una cadena de caracteres entre `\"\"`"
   ]
  },
  {
   "cell_type": "code",
   "execution_count": null,
   "metadata": {},
   "outputs": [],
   "source": [
    "s1 = \"Soy una variable string.\""
   ]
  },
  {
   "cell_type": "code",
   "execution_count": null,
   "metadata": {},
   "outputs": [],
   "source": [
    "s2 = \"\"\"Soy una variable string\"\"\""
   ]
  },
  {
   "cell_type": "code",
   "execution_count": null,
   "metadata": {},
   "outputs": [],
   "source": [
    "s3 = 'Soy una variable string con error de sintaxis'"
   ]
  },
  {
   "cell_type": "markdown",
   "metadata": {},
   "source": [
    "`''` define un caracter, no una cadena de texto"
   ]
  },
  {
   "cell_type": "markdown",
   "metadata": {},
   "source": [
    "#### 1.2.2 Interpolation"
   ]
  },
  {
   "cell_type": "code",
   "execution_count": null,
   "metadata": {},
   "outputs": [],
   "source": [
    "nombre = \"keynes\"\n",
    "libro = \"Teoria General\"\n",
    "year = 30"
   ]
  },
  {
   "cell_type": "code",
   "execution_count": null,
   "metadata": {},
   "outputs": [],
   "source": [
    "println(\"Hola!, mi nombre es $nombre.\")\n",
    "println(\"y mi libro, $libro, contribuyó a superar la crisis del $year\")\n",
    "\n",
    "### $ se utiliza para insertar variables en una string"
   ]
  },
  {
   "cell_type": "code",
   "execution_count": null,
   "metadata": {},
   "outputs": [],
   "source": [
    "## String concatenation\n",
    "nombre = \"Adam \"\n",
    "apellido = \"Smith \"\n",
    "string(nombre, apellido)"
   ]
  },
  {
   "cell_type": "code",
   "execution_count": null,
   "metadata": {},
   "outputs": [],
   "source": [
    "obra = \"escribio el libro La Riqueza de las Naciones\""
   ]
  },
  {
   "cell_type": "code",
   "execution_count": null,
   "metadata": {},
   "outputs": [],
   "source": [
    "string(nombre,apellido,obra)"
   ]
  },
  {
   "cell_type": "code",
   "execution_count": null,
   "metadata": {},
   "outputs": [],
   "source": [
    "# se puede usar * tambien para concaternar strings\n",
    "nombre*apellido*obra"
   ]
  },
  {
   "cell_type": "markdown",
   "metadata": {},
   "source": [
    "### 1.2 Estructura de Datos\n",
    "\n",
    "Una vez que se comienza a trabajar con muchos datos a la vez, es conveniente almacenarlos  en estructuras de datos como *matrices* o *diccionarios* (en lugar de depender solo de variables).\n",
    "\n",
    "Tipos de estructuras de datos:\n",
    "1. Tuplas\n",
    "2. Diccionarios\n",
    "3. Matrices\n",
    "\n",
    "A modo de resumen, las tuplas y las matrices son secuencias ordenadas de elementos (por lo que podemos indexarlas), mientras que los diccionarios carecen de un orden. Los diccionarios y las matrices son mutables, por lo que es posible modificar su contenido. En cambio las tuplas son inmutables.\n",
    "\n",
    "\n",
    "#### 1.2.1 Tuples\n",
    "\n",
    "Es posible crear una tupla a partir de una colección de elementos entre paréntesis `( )`.\n",
    "\n",
    "Syntax: <br>\n",
    "```julia\n",
    "(item1, item2, ...)```\n"
   ]
  },
  {
   "cell_type": "code",
   "execution_count": null,
   "metadata": {},
   "outputs": [],
   "source": [
    "tupla = (10, 20, 30)"
   ]
  },
  {
   "cell_type": "markdown",
   "metadata": {},
   "source": [
    "Es posible llemar un elemento de la tupla de acuerdo a su posición"
   ]
  },
  {
   "cell_type": "code",
   "execution_count": null,
   "metadata": {},
   "outputs": [],
   "source": [
    "tupla[1]"
   ]
  },
  {
   "cell_type": "markdown",
   "metadata": {},
   "source": [
    "Sin embargo, no es posible modificar los datos que pertenecen a la tupla"
   ]
  },
  {
   "cell_type": "code",
   "execution_count": null,
   "metadata": {},
   "outputs": [],
   "source": [
    "tupla[1] = 40"
   ]
  },
  {
   "cell_type": "markdown",
   "metadata": {},
   "source": [
    "#### 1.2.2 Diccionarios\n",
    "\n",
    "Ante la presencia de datos relacionados, es posible que se prefiera almacenarlos en un diccionario. Los diccionarios se crean a partir de utilizar la funcion `Dict()`\n",
    "\n",
    "Syntax:\n",
    "```julia\n",
    "Dict(key1 => value1, key2 => value2, ...)```\n",
    "\n",
    "Un ejemplo sencillo es una agenda de telefonos"
   ]
  },
  {
   "cell_type": "code",
   "execution_count": null,
   "metadata": {},
   "outputs": [],
   "source": [
    "agenda = Dict(\"juan\" => \"221-394857\", \"Carlos\" => \"221-857629\")"
   ]
  },
  {
   "cell_type": "markdown",
   "metadata": {},
   "source": [
    "En este caso, el nombre y el numero son la \"clave\" y el \"valor\" del par. Podemos extraer el número (valor) de Juan a partir de su clave asociada"
   ]
  },
  {
   "cell_type": "code",
   "execution_count": null,
   "metadata": {},
   "outputs": [],
   "source": [
    "agenda[\"juan\"]"
   ]
  },
  {
   "cell_type": "markdown",
   "metadata": {},
   "source": [
    "Es posible incorporar datos a la estructura: agendar otro contacto"
   ]
  },
  {
   "cell_type": "code",
   "execution_count": null,
   "metadata": {},
   "outputs": [],
   "source": [
    "agenda[\"martin\"] = \"221-332256\""
   ]
  },
  {
   "cell_type": "code",
   "execution_count": null,
   "metadata": {},
   "outputs": [],
   "source": [
    "agenda"
   ]
  },
  {
   "cell_type": "markdown",
   "metadata": {},
   "source": [
    "A diferencia de las tuplas, los diccionarios no están ordenados, por lo que no es posible buscar entradas a través de su posición."
   ]
  },
  {
   "cell_type": "code",
   "execution_count": null,
   "metadata": {},
   "outputs": [],
   "source": [
    "agenda[1]"
   ]
  },
  {
   "cell_type": "markdown",
   "metadata": {},
   "source": [
    "#### 1.2.3 Arrays\n",
    "\n",
    "A diferencias de las tuplas, los arrays (matrices) son mutables, y a diferencia de los diccionarios, los arrays poseen colecciones de datos ordenados. Para crear un array hay que escribir datos entre corchetes `[ ]`.\n",
    "\n",
    "Syntax: <br>\n",
    "```julia\n",
    "[item1, item2, ...]```\n"
   ]
  },
  {
   "cell_type": "code",
   "execution_count": null,
   "metadata": {},
   "outputs": [],
   "source": [
    "data = [1,1,1,2,2,2,3,3,3]"
   ]
  },
  {
   "cell_type": "code",
   "execution_count": null,
   "metadata": {},
   "outputs": [],
   "source": [
    "data[4]"
   ]
  },
  {
   "cell_type": "markdown",
   "metadata": {},
   "source": [
    "Es posible editar el array utilizando las funciones `push!` y `pop!`. `push!` agrega elementos al array al final, mientras que `pop!` elimina el ultimo elemento."
   ]
  },
  {
   "cell_type": "code",
   "execution_count": null,
   "metadata": {},
   "outputs": [],
   "source": [
    "fibonacci = [1, 1, 2, 3, 5, 8, 13]"
   ]
  },
  {
   "cell_type": "code",
   "execution_count": null,
   "metadata": {},
   "outputs": [],
   "source": [
    "push!(fibonacci, 21)"
   ]
  },
  {
   "cell_type": "code",
   "execution_count": null,
   "metadata": {},
   "outputs": [],
   "source": [
    "pop!(fibonacci)"
   ]
  },
  {
   "cell_type": "code",
   "execution_count": null,
   "metadata": {},
   "outputs": [],
   "source": [
    "fibonacci"
   ]
  },
  {
   "cell_type": "code",
   "execution_count": null,
   "metadata": {},
   "outputs": [],
   "source": [
    "matriz = [[1,2,3],[4,5,6],[7,8,9]]"
   ]
  },
  {
   "cell_type": "markdown",
   "metadata": {},
   "source": [
    "Es posible utilizar la funcion `rand()` para crear una matriz de numeros aleatorios de dimensión $N x M$"
   ]
  },
  {
   "cell_type": "code",
   "execution_count": null,
   "metadata": {},
   "outputs": [],
   "source": [
    "rand(4,3)"
   ]
  },
  {
   "cell_type": "code",
   "execution_count": null,
   "metadata": {},
   "outputs": [],
   "source": [
    "rand(4,3,3)"
   ]
  },
  {
   "cell_type": "markdown",
   "metadata": {},
   "source": [
    "## 2. Control Flow\n",
    "\n",
    "### 2.1 Iteraciones (loops)\n",
    "\n",
    "Topics:\n",
    "1. `while` loops\n",
    "2. `for` loops\n",
    "<br>\n",
    "\n",
    "### While loops\n",
    "\n",
    "La sintáxis para  `while` es\n",
    "\n",
    "```julia\n",
    "while *condición*\n",
    "    *cuerpo del loop*\n",
    "end\n",
    "```\n",
    "\n",
    "Por ejemplo, podemos utilizar `while` para contar o iterar sobre un array.\n"
   ]
  },
  {
   "cell_type": "code",
   "execution_count": null,
   "metadata": {},
   "outputs": [],
   "source": [
    "n = 0\n",
    "while n < 10\n",
    "    n += 1\n",
    "    println(n)\n",
    "end\n",
    "n"
   ]
  },
  {
   "cell_type": "code",
   "execution_count": null,
   "metadata": {},
   "outputs": [],
   "source": [
    "materias = [\"micro\", \"macro\", \"econometria\", \"estadistica\", \"algebra\"]\n",
    "\n",
    "i = 1\n",
    "while i <= length(materias)\n",
    "    materia = materias[i]\n",
    "    println(\"Estoy cursando $materia\")\n",
    "    i += 1\n",
    "end"
   ]
  },
  {
   "cell_type": "markdown",
   "metadata": {},
   "source": [
    "### For loops\n",
    "\n",
    "la sitáxis para `for` es\n",
    "\n",
    "```julia\n",
    "for *var* in *iteracion loop*\n",
    "    *cuerpo loop*\n",
    "end\n",
    "```\n",
    "\n",
    "Se puede observar que\n",
    "\n",
    "Es posible usar este loop para generar los mismos resultados de arriba:"
   ]
  },
  {
   "cell_type": "code",
   "execution_count": null,
   "metadata": {},
   "outputs": [],
   "source": [
    "for n in 1:10\n",
    "    println(n)\n",
    "end"
   ]
  },
  {
   "cell_type": "code",
   "execution_count": null,
   "metadata": {},
   "outputs": [],
   "source": [
    "materias = [\"micro\", \"macro\", \"econometria\", \"estadistica\", \"algebra\"]\n",
    "\n",
    "for materia in materias\n",
    "    println(\"Estoy cursando $materia\")\n",
    "end"
   ]
  },
  {
   "cell_type": "markdown",
   "metadata": {},
   "source": [
    "Ahora, utilicemos `for` para crear tablas adicionales, donde el valor de vada entrada sea la suma del índice de la fila y la columna <br>\n",
    "\n",
    "Primero, creamos un array con ceros."
   ]
  },
  {
   "cell_type": "code",
   "execution_count": null,
   "metadata": {},
   "outputs": [],
   "source": [
    "m, n = 5, 5\n",
    "A = fill(0, (m, n))"
   ]
  },
  {
   "cell_type": "code",
   "execution_count": null,
   "metadata": {},
   "outputs": [],
   "source": [
    "for i in 1:m\n",
    "    for j in 1:n\n",
    "        A[i, j] = i + j\n",
    "    end\n",
    "end\n",
    "A"
   ]
  },
  {
   "cell_type": "markdown",
   "metadata": {},
   "source": [
    "Ahora un sintáxis reducida del loop `for`"
   ]
  },
  {
   "cell_type": "code",
   "execution_count": null,
   "metadata": {},
   "outputs": [],
   "source": [
    "B = fill(0, (m, n))"
   ]
  },
  {
   "cell_type": "code",
   "execution_count": null,
   "metadata": {},
   "outputs": [],
   "source": [
    "for i in 1:m, j in 1:n\n",
    "    B[i, j] = i + j\n",
    "end\n",
    "B"
   ]
  },
  {
   "cell_type": "markdown",
   "metadata": {},
   "source": [
    "Otra posibilidad es"
   ]
  },
  {
   "cell_type": "code",
   "execution_count": null,
   "metadata": {},
   "outputs": [],
   "source": [
    "C = [i + j for i in 1:m, j in 1:n]"
   ]
  },
  {
   "cell_type": "markdown",
   "metadata": {},
   "source": [
    "### 2.2. Condicionales\n",
    "\n",
    "####  `if` keyword\n",
    "En julia, la sintáxis es:\n",
    "\n",
    "```julia\n",
    "if *condicion 1*\n",
    "    *opcion 1*\n",
    "elseif *condicion 2*\n",
    "    *opcion 2*\n",
    "else\n",
    "    *opcion 3*\n",
    "end\n",
    "```\n",
    "\n",
    "Nos permite condicionar las expresiones evaluadas.\n",
    "\n",
    "<br><br>\n",
    "\n",
    "Por ejemplo, podríamos querer implementar la prueba FizzBuzz: dado un número, N, imprima \"Fizz\" si N es divisible entre 3, \"Buzz\" si N es divisible entre 5 y \"FizzBuzz\" si N es divisible entre 3 y 5. De lo contrario, solo imprima el número mismo. Ingrese su elección para `N` aquí:"
   ]
  },
  {
   "cell_type": "code",
   "execution_count": null,
   "metadata": {},
   "outputs": [],
   "source": [
    "N =\n",
    "\n",
    "if (N % 3 == 0) && (N % 5 == 0) # `&&` means \"AND\"; % computes the remainder after division\n",
    "    println(\"FizzBuzz\")\n",
    "elseif N % 3 == 0\n",
    "    println(\"Fizz\")\n",
    "elseif N % 5 == 0\n",
    "    println(\"Buzz\")\n",
    "else\n",
    "    println(N)\n",
    "end"
   ]
  },
  {
   "cell_type": "markdown",
   "metadata": {},
   "source": [
    "#### Operadores ternarios\n",
    "\n",
    "Es posible utilizar operadores ternarios en la sintáxis\n",
    "\n",
    "```julia\n",
    "a ? b : c\n",
    "```\n",
    "\n",
    "which equates to\n",
    "\n",
    "```julia\n",
    "if a\n",
    "    b\n",
    "else\n",
    "    c\n",
    "end\n",
    "```"
   ]
  },
  {
   "cell_type": "markdown",
   "metadata": {},
   "source": [
    "Supongamos por ejemplo que queremos obtener el número más alto entre dos posibilidades: dado los valores de `x` e `y`:"
   ]
  },
  {
   "cell_type": "code",
   "execution_count": null,
   "metadata": {},
   "outputs": [],
   "source": [
    "x =\n",
    "y ="
   ]
  },
  {
   "cell_type": "markdown",
   "metadata": {},
   "source": [
    "Utilizando las keywords `if` y `else` podemos escribir:"
   ]
  },
  {
   "cell_type": "code",
   "execution_count": null,
   "metadata": {},
   "outputs": [],
   "source": [
    "if x > y\n",
    "    x\n",
    "else\n",
    "    y\n",
    "end"
   ]
  },
  {
   "cell_type": "markdown",
   "metadata": {},
   "source": [
    "Utilizando operadores ternarios, el condicional es:"
   ]
  },
  {
   "cell_type": "code",
   "execution_count": null,
   "metadata": {},
   "outputs": [],
   "source": [
    "(x > y) ? x : y"
   ]
  },
  {
   "cell_type": "markdown",
   "metadata": {},
   "source": [
    "###  2.3 Funciones\n",
    "\n",
    "#### 3.1. Como crear una función\n",
    " 3.1. Como crear una función\n",
    "Julia permite varias formas de escribir una función. La primera requiere las keywords `function` y `end`."
   ]
  },
  {
   "cell_type": "code",
   "execution_count": null,
   "metadata": {},
   "outputs": [],
   "source": [
    "function hola(name)\n",
    "    println(\"Hola $name, que bueno verte!\")\n",
    "end"
   ]
  },
  {
   "cell_type": "code",
   "execution_count": null,
   "metadata": {},
   "outputs": [],
   "source": [
    "function f(x)\n",
    "    x^2\n",
    "end"
   ]
  },
  {
   "cell_type": "code",
   "execution_count": null,
   "metadata": {},
   "outputs": [],
   "source": [
    "hola(\"Keynes\")"
   ]
  },
  {
   "cell_type": "code",
   "execution_count": null,
   "metadata": {},
   "outputs": [],
   "source": [
    "f(4)"
   ]
  },
  {
   "cell_type": "markdown",
   "metadata": {},
   "source": [
    "Alternativamente, puede definirse de forma \"anónima\", es decir: "
   ]
  },
  {
   "cell_type": "code",
   "execution_count": null,
   "metadata": {},
   "outputs": [],
   "source": [
    "hola2 = name -> println(\"Hola $name, que bueno verte!\")"
   ]
  },
  {
   "cell_type": "code",
   "execution_count": null,
   "metadata": {},
   "outputs": [],
   "source": [
    "f2 = x -> x^2"
   ]
  },
  {
   "cell_type": "code",
   "execution_count": null,
   "metadata": {},
   "outputs": [],
   "source": [
    "hola2(\"Smith\")"
   ]
  },
  {
   "cell_type": "code",
   "execution_count": null,
   "metadata": {},
   "outputs": [],
   "source": [
    "f2(4)"
   ]
  },
  {
   "cell_type": "markdown",
   "metadata": {},
   "source": [
    "#### 3.1. Como crear una función\n",
    " 3.2. Duck-typing\n",
    "\n",
    "*\"If it quacks like a duck, it's a duck.\"* <br><br>\n",
    "\n",
    "Las funciones de Julia\n",
    "Las funciones de Julia simplemente funcionarán en cualquier entrada que tenga sentido. <br><br>\n",
    "Por ejemplo, `hola` funciona debido a que se le pasa un argumento de tipo texto, si se introduce un número entero..."
   ]
  },
  {
   "cell_type": "code",
   "execution_count": null,
   "metadata": {},
   "outputs": [],
   "source": [
    "hola(12345)"
   ]
  },
  {
   "cell_type": "markdown",
   "metadata": {},
   "source": [
    "y `f` funciona con una matrix"
   ]
  },
  {
   "cell_type": "code",
   "execution_count": null,
   "metadata": {},
   "outputs": [],
   "source": [
    "A = rand(3, 3)\n",
    "A"
   ]
  },
  {
   "cell_type": "code",
   "execution_count": null,
   "metadata": {},
   "outputs": [],
   "source": [
    "f(A)"
   ]
  },
  {
   "cell_type": "markdown",
   "metadata": {},
   "source": [
    "`f` tambien funcionará con una cadena de texto porque  `*` se está como una operación de concatenación de string"
   ]
  },
  {
   "cell_type": "code",
   "execution_count": null,
   "metadata": {},
   "outputs": [],
   "source": [
    "f(\"hola\")"
   ]
  },
  {
   "cell_type": "markdown",
   "metadata": {},
   "source": [
    "Por otro lado, `f` no funcionará con un vector. A diferencia de `A^2`, operación definida, la expresión `v^2` para un vector, `v`, no es una operación algebraica válida."
   ]
  },
  {
   "cell_type": "code",
   "execution_count": null,
   "metadata": {},
   "outputs": [],
   "source": [
    "v = rand(3)"
   ]
  },
  {
   "cell_type": "code",
   "execution_count": null,
   "metadata": {},
   "outputs": [],
   "source": [
    "f(v)"
   ]
  },
  {
   "cell_type": "markdown",
   "metadata": {},
   "source": [
    "#### 3.3. Mutating vs. non-mutating\n",
    "\n",
    "Por convención, las funciones seguidas por `!` alteran el contenido, caso contrario sino se escribe `!`.\n",
    "\n",
    "Por ejemplo, observamos la diferencia entre `sort` y `sort!`."
   ]
  },
  {
   "cell_type": "code",
   "execution_count": null,
   "metadata": {},
   "outputs": [],
   "source": [
    "v = [3, 5, 2]"
   ]
  },
  {
   "cell_type": "code",
   "execution_count": null,
   "metadata": {},
   "outputs": [],
   "source": [
    "sort(v)"
   ]
  },
  {
   "cell_type": "code",
   "execution_count": null,
   "metadata": {},
   "outputs": [],
   "source": [
    "v"
   ]
  },
  {
   "cell_type": "code",
   "execution_count": null,
   "metadata": {},
   "outputs": [],
   "source": [
    "sort!(v)"
   ]
  },
  {
   "cell_type": "code",
   "execution_count": null,
   "metadata": {},
   "outputs": [],
   "source": [
    "v"
   ]
  },
  {
   "cell_type": "markdown",
   "metadata": {},
   "source": [
    "#### 3.4. Algunas funciones de orden superior\n",
    "\n",
    "#### map\n",
    "\n",
    "`map` es una función de \"orden superior\" en Julia, que toma como argumento otra función.\n",
    "`map` luego aplica esa función a todos los elementos de la estructura de datos a la que se le quiere aplicar la operación. Por ejemplo, si se ejecuta\n",
    "\n",
    "```julia\n",
    "map(f, [1, 2, 3])\n",
    "```\n",
    "Obtendremos un array en donde la función `f` fue aplicada a cada uno de los elementos de `[1, 2, 3]`\n",
    "\n",
    "```julia\n",
    "[f(1), f(2), f(3)]\n",
    "```"
   ]
  },
  {
   "cell_type": "code",
   "execution_count": null,
   "metadata": {},
   "outputs": [],
   "source": [
    "map(f, [1, 2, 3])"
   ]
  },
  {
   "cell_type": "markdown",
   "metadata": {},
   "source": [
    "Allí se observan todos los elementos del vector `[1, 2, 3]` elevados al cuadrado, en lugar del cuadrado del vector.\n",
    "\n",
    "Haciendo esto, es posible pasarle a la función `map` otra función anónima, por ejemplo."
   ]
  },
  {
   "cell_type": "code",
   "execution_count": null,
   "metadata": {},
   "outputs": [],
   "source": [
    "x -> x^3"
   ]
  },
  {
   "cell_type": "code",
   "execution_count": null,
   "metadata": {},
   "outputs": [],
   "source": [
    "map(x -> x^3, [1, 2, 3])"
   ]
  },
  {
   "cell_type": "markdown",
   "metadata": {},
   "source": [
    "Y ahora se observan todos los elementos del vector `[1, 2, 3]` al cubo."
   ]
  },
  {
   "cell_type": "markdown",
   "metadata": {},
   "source": [
    "####  Broadcasting\n",
    "\n",
    "`broadcast` es otra función de orden superior como `map`. `broadcast` es la generalización de  `map`, por lo que puede realizar todas las operaciones que `map` no logra. la sintáxis de `broadcast` es la misma que la sintáxis de `map`."
   ]
  },
  {
   "cell_type": "code",
   "execution_count": null,
   "metadata": {},
   "outputs": [],
   "source": [
    "broadcast(f, [1, 2, 3])"
   ]
  },
  {
   "cell_type": "markdown",
   "metadata": {},
   "source": [
    "Otra vez, aplicamos `f` (cuadrado) a todos los elementos del vector `[1, 2, 3]`, pero esta vez aplicando el \"broadcasting\" `f`! \n",
    "\n",
    "Una forma más sencilla de realizar el broadcasting es reemplazar `broadcast` por  `.` entre el nombre de la función y los inputos. Por ejemplo,\n",
    "\n",
    "```julia\n",
    "broadcast(f, [1, 2, 3])\n",
    "```\n",
    "Es igual a\n",
    "```julia\n",
    "f.([1, 2, 3])\n",
    "```"
   ]
  },
  {
   "cell_type": "code",
   "execution_count": null,
   "metadata": {},
   "outputs": [],
   "source": [
    "f.([1, 2, 3])"
   ]
  },
  {
   "cell_type": "markdown",
   "metadata": {},
   "source": [
    "Para el caso de la matriz `A`, si se realiza la operación,\n",
    "\n",
    "```\n",
    "f(A) = A^2 = A * A\n",
    "```\n",
    "\n",
    "Por otro lado,"
   ]
  },
  {
   "cell_type": "code",
   "execution_count": null,
   "metadata": {},
   "outputs": [],
   "source": [
    "f.(A)"
   ]
  },
  {
   "cell_type": "markdown",
   "metadata": {},
   "source": [
    "Contiene el cuadrado de cada uno de los elementos de `A`"
   ]
  },
  {
   "cell_type": "markdown",
   "metadata": {},
   "source": [
    "## 3. Librerias\n",
    "\n",
    "### 3.1 Librerias/Paquetes\n",
    "\n",
    "Julia posee alrededor de 2000 librerias o paquetes registrados, por lo que representan una enorme parte del ecosistema.\n",
    "\n",
    "Aun así, el ecosistema de paquetes todavía tiene que crecer. En particular, existen funciones de primera clase que llaman a otros lenguajes, lo que proporciona una excelente interface de funciones importadas. Podemos llamar fácilmente a python o R, por ejemplo, con `PyCall` o` Rcall`.\n",
    "\n",
    "Esto significa que no hay que esperar hasta que el ecosistema de Julia esté completamente maduro, y que mudarse a Julia no significa que tenga que renunciar a su paquete/biblioteca favorito de otro lenguaje.\n",
    "\n",
    "Para ver los paquetes o librerias disponibles:\n",
    "\n",
    "https://pkg.julialang.org/\n",
    "o\n",
    "https://juliaobserver.com/\n",
    "\n",
    "Veamos como es el uso de los paquetes."
   ]
  },
  {
   "cell_type": "markdown",
   "metadata": {},
   "source": [
    "La primera vez que se utiliza un paquete en Julia, es necesario utilizar el package manager:"
   ]
  },
  {
   "cell_type": "code",
   "execution_count": null,
   "metadata": {},
   "outputs": [],
   "source": [
    "using Pkg\n",
    "Pkg.add(\"Example\")"
   ]
  },
  {
   "cell_type": "markdown",
   "metadata": {},
   "source": [
    "Cada vez que se utiliza Julia (es decir, se comienza una nueva sesión en el REPL, o un notebook de jupyter, por ejemplo), es necesario cargar el paquete utlizando el keyword `using`"
   ]
  },
  {
   "cell_type": "code",
   "execution_count": null,
   "metadata": {},
   "outputs": [],
   "source": [
    "using Example"
   ]
  },
  {
   "cell_type": "markdown",
   "metadata": {},
   "source": [
    "En el código fuente de `Example.jl` en\n",
    "https://github.com/JuliaLang/Example.jl/blob/master/src/Example.jl\n",
    "Se puede observar la siguiente función declarada\n",
    "\n",
    "```\n",
    "hello(who::String) = \"Hello, $who\"\n",
    "```\n",
    "\n",
    "Una vez cargado el paquete `Example`, es posible utilizar la función `hello`"
   ]
  },
  {
   "cell_type": "code",
   "execution_count": null,
   "metadata": {},
   "outputs": [],
   "source": [
    "hello(\"it's me. I was wondering if after all these years you'd like to meet.\")"
   ]
  },
  {
   "cell_type": "markdown",
   "metadata": {},
   "source": [
    "Ahora carguemos el paquete `Colors.jl`"
   ]
  },
  {
   "cell_type": "code",
   "execution_count": null,
   "metadata": {},
   "outputs": [],
   "source": [
    "Pkg.add(\"Colors\")"
   ]
  },
  {
   "cell_type": "code",
   "execution_count": null,
   "metadata": {},
   "outputs": [],
   "source": [
    "using Colors"
   ]
  },
  {
   "cell_type": "markdown",
   "metadata": {},
   "source": [
    "Creamos una paleta de 100 colores diferentes"
   ]
  },
  {
   "cell_type": "code",
   "execution_count": null,
   "metadata": {},
   "outputs": [],
   "source": [
    "paleta = distinguishable_colors(100)"
   ]
  },
  {
   "cell_type": "markdown",
   "metadata": {},
   "source": [
    "y luego creemos una matriz aleatoria de colores utilizando el comando `rand`"
   ]
  },
  {
   "cell_type": "code",
   "execution_count": null,
   "metadata": {},
   "outputs": [],
   "source": [
    "rand(paleta, 3, 3)"
   ]
  },
  {
   "cell_type": "markdown",
   "metadata": {},
   "source": [
    "### 3.2. Gráficos\n",
    "\n",
    "\n",
    "#### Aspectos básicos\n",
    "Existen diferentes formas de realizar gráficos en Julia (incluida la función `PyPlot` de python). <br>\n",
    "\n",
    "Vamos a ver como funciona el paquete `Plots.jl`. Si el paquete no se encuentra instalada, hay que utilizar el package manager como en el caso anterior."
   ]
  },
  {
   "cell_type": "code",
   "execution_count": null,
   "metadata": {},
   "outputs": [],
   "source": [
    "#using Pkg\n",
    "#Pkg.add(\"Plots\")\n",
    "using Plots"
   ]
  },
  {
   "cell_type": "markdown",
   "metadata": {},
   "source": [
    "Una de las ventajas de `Plots.jl` es que permite cambiar sin problemas los backends. En este caso, probaremos los backends `gr ()` y `plotlyjs ()`. <br>\n",
    "\n",
    "In the name of scientific inquiry, let's use this notebook to examine the relationship between the global temperature and the number of pirates between roughly 1860 and 2000."
   ]
  },
  {
   "cell_type": "code",
   "execution_count": null,
   "metadata": {},
   "outputs": [],
   "source": [
    "precio = [14.4, 14.5, 14.8, 15.2, 15.5, 15.8]\n",
    "cantidad = [45000, 42000, 40100, 39600, 36800, 35000];"
   ]
  },
  {
   "cell_type": "markdown",
   "metadata": {},
   "source": [
    "`Plots` suporta multiples backends. Primero probemos GR: `gr()`:"
   ]
  },
  {
   "cell_type": "code",
   "execution_count": null,
   "metadata": {},
   "outputs": [],
   "source": [
    "gr()"
   ]
  },
  {
   "cell_type": "code",
   "execution_count": null,
   "metadata": {},
   "outputs": [],
   "source": [
    "plot(cantidad, precio, label=\"line\")\n",
    "bars!(cantidad, precio, label=\"points\")"
   ]
  },
  {
   "cell_type": "markdown",
   "metadata": {},
   "source": [
    "El `!` al final de `scatter!` produce que se tranforme una función que modifica el resultado anterior (mutating), indicando que el gráfico de puntos se añade al gráfico de linea realizado en primer lugar.\n",
    "\n",
    "Corroborar que ocurre se aplica la función`scatter` sin `!`\n",
    "\n",
    "Luego, con los comandos `xlabel!`, `ylabel!`, y `title!` es posible incorporar información a los gáficos (buscar en el `help` más opciones de edición)"
   ]
  },
  {
   "cell_type": "code",
   "execution_count": null,
   "metadata": {},
   "outputs": [],
   "source": [
    "xlabel!(\"Precio\")\n",
    "ylabel!(\"Cantidad\")\n",
    "title!(\"Demanda del bien X\")"
   ]
  },
  {
   "cell_type": "markdown",
   "metadata": {},
   "source": [
    "En la documentación de la libería http://docs.juliaplots.org/latest/ se pueden encontrar los tipos de gráficos, opciones, animaciones y backends soportados. A su vez, se puede encontrar una comparación de cada backend según las necesidades del usuario:\n",
    "\n",
    "| Si se requiere| Backend       |\n",
    "|:------------- |:-------------:| \n",
    "| Especificaciones      | PyPlot, Plotly(JS), GR | \n",
    "| Velocidad         | GR, InspectDR      |\n",
    "| Interativos | Plotly(JS), PyPlot, InspectDR      |\n",
    "| Belleza        | Plotly(JS), PGFPlots/ PGFPlotsX | \n",
    "| Graficos REPL      | UnicodePlots      |\n",
    "| GUI Window | GR, PyPlot, PlotlyJS, InspectDR      |\n",
    "\n"
   ]
  },
  {
   "cell_type": "markdown",
   "metadata": {},
   "source": [
    "## 4. Tópicos de Algebra y Estadística\n",
    "\n",
    "### 4.1 Algebra lineal básica\n",
    "\n",
    "En primer lugar, definimos una matriz con números aleatorios"
   ]
  },
  {
   "cell_type": "code",
   "execution_count": null,
   "metadata": {},
   "outputs": [],
   "source": [
    "A = rand(1:4,3,3)"
   ]
  },
  {
   "cell_type": "markdown",
   "metadata": {},
   "source": [
    "Defino un vector de 1s"
   ]
  },
  {
   "cell_type": "code",
   "execution_count": null,
   "metadata": {},
   "outputs": [],
   "source": [
    "x = fill(1.0, (3,)) # = fill(1.0, 3)"
   ]
  },
  {
   "cell_type": "markdown",
   "metadata": {},
   "source": [
    "Notar que $A$ es de tipo `Array{Int64,2}`, mientras que $x$ es un `Array{Float64,1}`. julia define `Vector{Type}=Array{Type,1}` y `Matrix{Type}=Array{Type,2}`. \n",
    "\n",
    "Muchas de estas operaciones son identicas en otros lenguajes\n",
    "\n",
    "#### Multiplicación"
   ]
  },
  {
   "cell_type": "code",
   "execution_count": null,
   "metadata": {},
   "outputs": [],
   "source": [
    "b = A*x"
   ]
  },
  {
   "cell_type": "markdown",
   "metadata": {},
   "source": [
    "#### Transposición\n",
    "Al igual que en otros lenguajes `A'` significa transponer o adjuntar:"
   ]
  },
  {
   "cell_type": "code",
   "execution_count": null,
   "metadata": {
    "scrolled": true
   },
   "outputs": [],
   "source": [
    "A'"
   ]
  },
  {
   "cell_type": "markdown",
   "metadata": {},
   "source": [
    "O podemos utilizar la función `transpose()`"
   ]
  },
  {
   "cell_type": "code",
   "execution_count": null,
   "metadata": {},
   "outputs": [],
   "source": [
    "transpose(A)"
   ]
  },
  {
   "cell_type": "markdown",
   "metadata": {},
   "source": [
    "#### Multiplicación transpuesta\n",
    "Julia permite multiplicar dos elementos sin necesidad de utilizar `*`:"
   ]
  },
  {
   "cell_type": "code",
   "execution_count": null,
   "metadata": {},
   "outputs": [],
   "source": [
    "A'A"
   ]
  },
  {
   "cell_type": "markdown",
   "metadata": {},
   "source": [
    "#### Resolución de sistema lineales\n",
    "\n",
    "El problema $Ax=b$ cuando $A$ es cuadrada se soluciona con la función `\\`."
   ]
  },
  {
   "cell_type": "code",
   "execution_count": null,
   "metadata": {},
   "outputs": [],
   "source": [
    "A\\b"
   ]
  },
  {
   "cell_type": "markdown",
   "metadata": {},
   "source": [
    "`A\\b` nos devuelve *la aproximación lineal* si estamos en presencia de un sistema sobredeterminado (\"tall\" matrix)\n",
    "\n",
    "$A => 3x3$ <br>\n",
    "$b => 3x1$ <br>\n",
    "$A\\b => 3x1$"
   ]
  },
  {
   "cell_type": "code",
   "execution_count": null,
   "metadata": {},
   "outputs": [],
   "source": [
    "Atall = rand(3, 2)"
   ]
  },
  {
   "cell_type": "code",
   "execution_count": null,
   "metadata": {},
   "outputs": [],
   "source": [
    "Atall\\b"
   ]
  },
  {
   "cell_type": "markdown",
   "metadata": {},
   "source": [
    "y la solución de mínimos cuadrados si tenemos un problema de rango deficiente"
   ]
  },
  {
   "cell_type": "code",
   "execution_count": null,
   "metadata": {},
   "outputs": [],
   "source": [
    "v = rand(3)\n",
    "rankdef = hcat(v, v)"
   ]
  },
  {
   "cell_type": "code",
   "execution_count": null,
   "metadata": {},
   "outputs": [],
   "source": [
    "rankdef\\b"
   ]
  },
  {
   "cell_type": "markdown",
   "metadata": {},
   "source": [
    "Julia también nos da la solución tenemos un sistema indeterminada (una matriz \"corta\")"
   ]
  },
  {
   "cell_type": "code",
   "execution_count": null,
   "metadata": {},
   "outputs": [],
   "source": [
    "bshort = rand(2)\n",
    "Ashort = rand(2, 3)"
   ]
  },
  {
   "cell_type": "code",
   "execution_count": null,
   "metadata": {},
   "outputs": [],
   "source": [
    "Ashort\\bshort"
   ]
  },
  {
   "cell_type": "markdown",
   "metadata": {},
   "source": [
    "####  LinearAlgebra.jl\n",
    "\n",
    "Si bien gran parte del álgebra lineal está disponible en Julia de forma predeterminada (como se muestra arriba), hay una biblioteca estándar llamada `LinearAlgebra` que trae muchos más nombres y funciones relevantes. En particular, proporciona factorizaciones y algunos tipos de matrices estructuradas."
   ]
  }
 ],
 "metadata": {
  "@webio": {
   "lastCommId": null,
   "lastKernelId": null
  },
  "kernelspec": {
   "display_name": "Julia 1.4.1",
   "language": "julia",
   "name": "julia-1.4"
  },
  "language_info": {
   "file_extension": ".jl",
   "mimetype": "application/julia",
   "name": "julia",
   "version": "1.4.1"
  }
 },
 "nbformat": 4,
 "nbformat_minor": 4
}
